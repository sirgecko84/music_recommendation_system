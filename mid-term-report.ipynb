{
 "cells": [
  {
   "cell_type": "markdown",
   "metadata": {},
   "source": [
    "# BÁO CÁO TIẾN ĐỘ GIỮA KỲ\n",
    "Lớp TTNT - 147729, Nhóm G05 "
   ]
  },
  {
   "cell_type": "markdown",
   "metadata": {},
   "source": [
    "## 1. Phương pháp và thuật toán sử dụng\n",
    "### Tính toán tương đồng: \n",
    "- Dữ liệu các bài hát được biểu diễn thành các vector sử dụng phương pháp TF-IDF (Term Frequency-Inverse Document Frequency). Tính toán ma trận tương đồng cosine giữa các vector biểu diễn của các bài hát. Ma trận này chứa thông tin về mức độ tương đồng giữa mỗi cặp bài hát trong tập dữ liệu.\n",
    "### Gợi ý âm nhạc: \n",
    "- Khi người dùng chọn một bài hát từ giao diện, hệ thống sẽ tìm kiếm index của bài hát đó trong dataframe.\n",
    "- Sau đó, hệ thống sẽ sắp xếp các bài hát khác dựa trên mức độ tương đồng với bài hát đã chọn. Mức độ tương đồng cao hơn sẽ đưa các bài hát đó lên phía trên trong danh sách gợi ý.\n",
    "- Bốn bước tiếp theo sau khi tìm kiếm index của bài hát đó trong dataframe là để lấy thông tin về nghệ sĩ và ảnh bìa album của các bài hát được gợi ý, thông qua API của Spotify. \n",
    "\n",
    "### Tải dữ liệu và tiền xử lý: \n",
    "- Chuỗi văn bản trong cột 'text' được chuyển thành chữ thường để đảm bảo tính nhất quán, các ký tự khôgn phải là chữ cái hoặc số và các ký tự xuống dòng được loại bỏ để làm sạch dữ liệu\n",
    "### Tách từ (Tokenization) và Stemming:\n",
    "- Sử dụng thư viện NLTK (Natural Language Toolkit) để tách chuỗi văn bản thành các từ riêng lẻ (Tokenization).\n",
    "- Sau đó, các từ này được chuyển về dạng gốc (Stemming) bằng cách sử dụng thuật toán PorterStemmer trong NLTK.\n",
    "- Quá trình này giúp làm giảm kích thước của từ vựng và chuẩn hóa các từ, từ đó cải thiện khả năng hiểu và xử lý của mô hình.\n",
    "\n",
    "### Tính toán độ tương đồng: \n",
    "- Sử dụng cosine_similarity từ scikit-learn để tính toán độ tương đồng cosine giữa các vector biểu diễn văn bản.\n",
    "Độ tương đồng cosine đo lường sự tương đồng giữa các mục văn bản dựa trên nội dung của chúng.\n",
    "\n",
    "\n",
    "\n",
    "\n"
   ]
  },
  {
   "cell_type": "markdown",
   "metadata": {},
   "source": [
    "## 2. Kết quả thực hiện giưã kỳ "
   ]
  },
  {
   "cell_type": "markdown",
   "metadata": {},
   "source": [
    "### data_processing\n"
   ]
  },
  {
   "cell_type": "code",
   "execution_count": null,
   "metadata": {},
   "outputs": [],
   "source": [
    "import pandas as pd\n",
    "#Loading data\n",
    "df = pd.read_csv(\"spotify_millsongdata.csv\")\n",
    "df.shape\n",
    "#Kiểm tra các ô null\n",
    "df.isnull().sum()\n",
    "df = df.drop('link', axis = 1)\n",
    "df.head(5)\n",
    "df['text'][0]\n",
    "df.sample(5000)\n",
    "df = df.sample(5000)\n",
    "df.head(5)\n",
    "Cleaning\n",
    "df['text']=df['text'].str.lower().replace('r^\\w\\s',' ').replace(r'\\n',' ', regex=True)\n",
    "df.head(5)\n",
    "df['text'][50238]\n",
    "Tokenization và Vectorization\n",
    "import nltk\n",
    "from nltk.stem.porter import PorterStemmer\n",
    "\n",
    "stemmer = PorterStemmer()\n",
    "def token(txt):\n",
    "    token = nltk.word_tokenize(txt) # tách chuỗi văn bản thành các từ  riêng lẻ\n",
    "    a = [stemmer.stem(w) for w in token] # duyệt qua từng từ trong token và chuyển về dạng gốc\n",
    "    return \" \".join(a) # ghép các từ trong list a thành một chuỗi, ngăn cách bởi dấu \" \"\n",
    "token(\"you are beautiful\")\n",
    "df['text'].apply(lambda x: token(x))\n",
    "from sklearn.feature_extraction.text import TfidfVectorizer\n",
    "from sklearn.metrics.pairwise import cosine_similarity\n",
    "tfid = TfidfVectorizer(analyzer='word', stop_words='english')\n",
    "# sử dụng từ riêng lẻ trong văn bản để tạo vector, các option khác: char, char_wb\n",
    "# stopwords: loại bỏ các từ không mang ý nghĩa như \"a\", \"an\", \"the\", \"me\", ...\n",
    "matrix = tfid.fit_transform(df['text'])\n",
    "similer = cosine_similarity(matrix)\n",
    "## Kết quả là một ma trận đối xứng, giá trị ở hàng thứ i và cột thứ j thể hiện độ tương đồng cosin giữa hai vector biểu diễn văn bản i và j trong tập dữ liệu.\n",
    "similer[0]\n"
   ]
  },
  {
   "cell_type": "markdown",
   "metadata": {},
   "source": [
    "### recommender_system"
   ]
  },
  {
   "cell_type": "markdown",
   "metadata": {},
   "source": []
  },
  {
   "cell_type": "code",
   "execution_count": null,
   "metadata": {},
   "outputs": [],
   "source": [
    "import pickle\n",
    "import streamlit as st\n",
    "import spotipy\n",
    "from spotipy.oauth2 import SpotifyClientCredentials\n",
    "\n",
    "ClientID = \"\" #\"70a9fb89662f4dac8d07321b259eaad7\"\n",
    "ClientSecret = \"\" #\"4d6710460d764fbbb8d8753dc094d131\"\n",
    "\n",
    "# Initialize the Spotify client\n",
    "client_credentials_manager = SpotifyClientCredentials(client_id = ClientID, client_secret = ClientSecret)\n",
    "sp = spotipy.Spotify(client_credentials_manager = client_credentials_manager)\n",
    "\n",
    "def get_song_album_cover_url(song_name, artist_name):\n",
    "    search_query = f\"track:{song_name} artist:{artist_name}\"\n",
    "    results = sp.search(q = search_query, type = \"track\")\n",
    "\n",
    "    if results and results[\"tracks\"][\"items\"]:\n",
    "        track = results[\"tracks\"][\"items\"][0]\n",
    "        album_cover_url = track[\"album\"][\"images\"][0][\"url\"]\n",
    "        print(album_cover_url)\n",
    "        return album_cover_url\n",
    "    else:\n",
    "        return \"https://i.postimg.cc/0QNxYz4V/social.png\"\n",
    "\n",
    "def recommend(song):\n",
    "    index = music[music['song'] == song].index[0]\n",
    "    distances = sorted(list(enumerate(similarity[index])), reverse = True, key = lambda x: x[1])\n",
    "    recommended_music_names = []\n",
    "    recommended_music_posters = []\n",
    "    for i in distances[1:6]:\n",
    "        # fetch the movie poster\n",
    "        artist = music.iloc[i[0]].artist\n",
    "        print(artist)\n",
    "        print(music.iloc[i[0]].song)\n",
    "        recommended_music_posters.append(get_song_album_cover_url(music.iloc[i[0]].song, artist))\n",
    "        recommended_music_names.append(music.iloc[i[0]].song)\n",
    "\n",
    "    return recommended_music_names,recommended_music_posters\n",
    "\n",
    "st.header('Music Recommender System')\n",
    "music = pickle.load(open('df.pkl','rb'))\n",
    "similarity = pickle.load(open('similarity.pkl','rb'))\n",
    "\n",
    "music_list = music['song'].values\n",
    "selected_movie = st.selectbox(\n",
    "    \"Type or select a song from the dropdown\",\n",
    "    music_list\n",
    ")\n",
    "\n",
    "if st.button('Show Recommendation'):\n",
    "    recommended_music_names,recommended_music_posters = recommend(selected_movie)\n",
    "    col1, col2, col3, col4, col5= st.columns(5)\n",
    "    with col1:\n",
    "        st.text(recommended_music_names[0])\n",
    "        st.image(recommended_music_posters[0])\n",
    "    with col2:\n",
    "        st.text(recommended_music_names[1])\n",
    "        st.image(recommended_music_posters[1])\n",
    "\n",
    "    with col3:\n",
    "        st.text(recommended_music_names[2])\n",
    "        st.image(recommended_music_posters[2])\n",
    "    with col4:\n",
    "        st.text(recommended_music_names[3])\n",
    "        st.image(recommended_music_posters[3])\n",
    "    with col5:\n",
    "        st.text(recommended_music_names[4])\n",
    "        st.image(recommended_music_posters[4])"
   ]
  },
  {
   "cell_type": "markdown",
   "metadata": {},
   "source": [
    "### Demo chương trình\n",
    "![text](demo_1.png)\n"
   ]
  },
  {
   "cell_type": "markdown",
   "metadata": {},
   "source": [
    "## 3. Khó khăn cần tiếp tục giải quyết\n",
    "### Xử lý dữ liệu không chuẩn:\n",
    "- Dữ liệu có thể chứa các ký tự đặc biệt, dấu câu hoặc ký tự không mong muốn khác. Cần phải xử lý dữ liệu để loại bỏ những ký tự này trước khi áp dụng các phương pháp tiền xử lý dữ liệu như chuyển thành chữ thường, loại bỏ stop words, tokenization và stemming.\n",
    "### Hiệu suất tính toán:\n",
    "- Các phương pháp tiền xử lý dữ liệu và tính toán độ tương đồng có thể tốn nhiều thời gian và tài nguyên tính toán, đặc biệt là với các tập dữ liệu lớn. Cần tối ưu hóa mã để cải thiện hiệu suất tính toán.\n",
    "### Xử lý lỗi và ngoại lệ:\n",
    "- Cần xử lý các trường hợp lỗi và ngoại lệ một cách chính xác, bao gồm việc xử lý dữ liệu không đầy đủ hoặc không hợp lệ từ API Spotify, lỗi trong quá trình tính toán, hoặc lỗi khi tải dữ liệu.\n",
    "### Tối ưu hóa gợi ý:\n",
    "- Có thể cần phải cải thiện thuật toán gợi ý để đảm bảo rằng các bài hát được gợi ý là chất lượng và phù hợp với người dùng hơn. Điều này có thể đòi hỏi sự phức tạp hóa hoặc mở rộng thuật toán gợi ý hiện tại."
   ]
  }
 ],
 "metadata": {
  "language_info": {
   "name": "python"
  }
 },
 "nbformat": 4,
 "nbformat_minor": 2
}
