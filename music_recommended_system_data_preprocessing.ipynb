{
 "cells": [
  {
   "cell_type": "code",
   "execution_count": 1,
   "id": "4f878176",
   "metadata": {},
   "outputs": [],
   "source": [
    "import pandas as pd"
   ]
  },
  {
   "cell_type": "code",
   "execution_count": null,
   "id": "9ab3542e",
   "metadata": {},
   "outputs": [],
   "source": [
    "#Loading data\n",
    "df = pd.read_csv(\"D:\\\\Programming\\\\Python\\\\recommendation system\\\\archive\\\\spotify_millsongdata.csv\")"
   ]
  },
  {
   "cell_type": "code",
   "execution_count": null,
   "id": "454a6248",
   "metadata": {},
   "outputs": [
    {
     "data": {
      "text/plain": [
       "(57650, 4)"
      ]
     },
     "execution_count": 3,
     "metadata": {},
     "output_type": "execute_result"
    }
   ],
   "source": [
    "df.shape"
   ]
  },
  {
   "cell_type": "code",
   "execution_count": null,
   "id": "a9e74a9f",
   "metadata": {},
   "outputs": [
    {
     "data": {
      "text/plain": [
       "artist    0\n",
       "song      0\n",
       "link      0\n",
       "text      0\n",
       "dtype: int64"
      ]
     },
     "execution_count": 4,
     "metadata": {},
     "output_type": "execute_result"
    }
   ],
   "source": [
    "#Kiểm tra các ô null\n",
    "df.isnull().sum()"
   ]
  },
  {
   "cell_type": "code",
   "execution_count": null,
   "id": "94f3079c",
   "metadata": {},
   "outputs": [],
   "source": [
    "df = df.drop('link', axis = 1)"
   ]
  },
  {
   "cell_type": "code",
   "execution_count": null,
   "id": "8929a997",
   "metadata": {},
   "outputs": [
    {
     "data": {
      "text/html": [
       "<div>\n",
       "<style scoped>\n",
       "    .dataframe tbody tr th:only-of-type {\n",
       "        vertical-align: middle;\n",
       "    }\n",
       "\n",
       "    .dataframe tbody tr th {\n",
       "        vertical-align: top;\n",
       "    }\n",
       "\n",
       "    .dataframe thead th {\n",
       "        text-align: right;\n",
       "    }\n",
       "</style>\n",
       "<table border=\"1\" class=\"dataframe\">\n",
       "  <thead>\n",
       "    <tr style=\"text-align: right;\">\n",
       "      <th></th>\n",
       "      <th>artist</th>\n",
       "      <th>song</th>\n",
       "      <th>text</th>\n",
       "    </tr>\n",
       "  </thead>\n",
       "  <tbody>\n",
       "    <tr>\n",
       "      <th>0</th>\n",
       "      <td>ABBA</td>\n",
       "      <td>Ahe's My Kind Of Girl</td>\n",
       "      <td>Look at her face, it's a wonderful face  \\r\\nA...</td>\n",
       "    </tr>\n",
       "    <tr>\n",
       "      <th>1</th>\n",
       "      <td>ABBA</td>\n",
       "      <td>Andante, Andante</td>\n",
       "      <td>Take it easy with me, please  \\r\\nTouch me gen...</td>\n",
       "    </tr>\n",
       "    <tr>\n",
       "      <th>2</th>\n",
       "      <td>ABBA</td>\n",
       "      <td>As Good As New</td>\n",
       "      <td>I'll never know why I had to go  \\r\\nWhy I had...</td>\n",
       "    </tr>\n",
       "    <tr>\n",
       "      <th>3</th>\n",
       "      <td>ABBA</td>\n",
       "      <td>Bang</td>\n",
       "      <td>Making somebody happy is a question of give an...</td>\n",
       "    </tr>\n",
       "    <tr>\n",
       "      <th>4</th>\n",
       "      <td>ABBA</td>\n",
       "      <td>Bang-A-Boomerang</td>\n",
       "      <td>Making somebody happy is a question of give an...</td>\n",
       "    </tr>\n",
       "  </tbody>\n",
       "</table>\n",
       "</div>"
      ],
      "text/plain": [
       "  artist                   song  \\\n",
       "0   ABBA  Ahe's My Kind Of Girl   \n",
       "1   ABBA       Andante, Andante   \n",
       "2   ABBA         As Good As New   \n",
       "3   ABBA                   Bang   \n",
       "4   ABBA       Bang-A-Boomerang   \n",
       "\n",
       "                                                text  \n",
       "0  Look at her face, it's a wonderful face  \\r\\nA...  \n",
       "1  Take it easy with me, please  \\r\\nTouch me gen...  \n",
       "2  I'll never know why I had to go  \\r\\nWhy I had...  \n",
       "3  Making somebody happy is a question of give an...  \n",
       "4  Making somebody happy is a question of give an...  "
      ]
     },
     "execution_count": 6,
     "metadata": {},
     "output_type": "execute_result"
    }
   ],
   "source": [
    "df.head(5)"
   ]
  },
  {
   "cell_type": "code",
   "execution_count": null,
   "id": "50240805",
   "metadata": {},
   "outputs": [
    {
     "data": {
      "text/plain": [
       "\"Look at her face, it's a wonderful face  \\r\\nAnd it means something special to me  \\r\\nLook at the way that she smiles when she sees me  \\r\\nHow lucky can one fellow be?  \\r\\n  \\r\\nShe's just my kind of girl, she makes me feel fine  \\r\\nWho could ever believe that she could be mine?  \\r\\nShe's just my kind of girl, without her I'm blue  \\r\\nAnd if she ever leaves me what could I do, what could I do?  \\r\\n  \\r\\nAnd when we go for a walk in the park  \\r\\nAnd she holds me and squeezes my hand  \\r\\nWe'll go on walking for hours and talking  \\r\\nAbout all the things that we plan  \\r\\n  \\r\\nShe's just my kind of girl, she makes me feel fine  \\r\\nWho could ever believe that she could be mine?  \\r\\nShe's just my kind of girl, without her I'm blue  \\r\\nAnd if she ever leaves me what could I do, what could I do?\\r\\n\\r\\n\""
      ]
     },
     "execution_count": 7,
     "metadata": {},
     "output_type": "execute_result"
    }
   ],
   "source": [
    "df['text'][0]"
   ]
  },
  {
   "cell_type": "code",
   "execution_count": null,
   "id": "b657a7fa",
   "metadata": {},
   "outputs": [
    {
     "data": {
      "text/html": [
       "<div>\n",
       "<style scoped>\n",
       "    .dataframe tbody tr th:only-of-type {\n",
       "        vertical-align: middle;\n",
       "    }\n",
       "\n",
       "    .dataframe tbody tr th {\n",
       "        vertical-align: top;\n",
       "    }\n",
       "\n",
       "    .dataframe thead th {\n",
       "        text-align: right;\n",
       "    }\n",
       "</style>\n",
       "<table border=\"1\" class=\"dataframe\">\n",
       "  <thead>\n",
       "    <tr style=\"text-align: right;\">\n",
       "      <th></th>\n",
       "      <th>artist</th>\n",
       "      <th>song</th>\n",
       "      <th>text</th>\n",
       "    </tr>\n",
       "  </thead>\n",
       "  <tbody>\n",
       "    <tr>\n",
       "      <th>26094</th>\n",
       "      <td>Bon Jovi</td>\n",
       "      <td>Blaze Of Glory</td>\n",
       "      <td>I wake up in the morning  \\r\\nAnd I raise my w...</td>\n",
       "    </tr>\n",
       "    <tr>\n",
       "      <th>49139</th>\n",
       "      <td>Procol Harum</td>\n",
       "      <td>About To Die</td>\n",
       "      <td>About to die, the crowds applaud you  \\r\\nAbou...</td>\n",
       "    </tr>\n",
       "    <tr>\n",
       "      <th>4834</th>\n",
       "      <td>Elton John</td>\n",
       "      <td>And The House Fell Down</td>\n",
       "      <td>The sun is up and the shades are all pulled do...</td>\n",
       "    </tr>\n",
       "    <tr>\n",
       "      <th>4257</th>\n",
       "      <td>Dolly Parton</td>\n",
       "      <td>A Christmas To Remember</td>\n",
       "      <td>You've made this a Christmas to remember  \\r\\n...</td>\n",
       "    </tr>\n",
       "    <tr>\n",
       "      <th>50463</th>\n",
       "      <td>Reba Mcentire</td>\n",
       "      <td>I'll Give You Something To Miss</td>\n",
       "      <td>Well there's a half moon starlit sky.  \\r\\nAll...</td>\n",
       "    </tr>\n",
       "    <tr>\n",
       "      <th>...</th>\n",
       "      <td>...</td>\n",
       "      <td>...</td>\n",
       "      <td>...</td>\n",
       "    </tr>\n",
       "    <tr>\n",
       "      <th>736</th>\n",
       "      <td>Andrea Bocelli</td>\n",
       "      <td>Sogno</td>\n",
       "      <td>SOGNO  \\r\\n  \\r\\nVa ti aspettero'  \\r\\nII fior...</td>\n",
       "    </tr>\n",
       "    <tr>\n",
       "      <th>10718</th>\n",
       "      <td>Kirk Franklin</td>\n",
       "      <td>Hello Fear</td>\n",
       "      <td>Hello fear  \\r\\nBefore you sit down there's so...</td>\n",
       "    </tr>\n",
       "    <tr>\n",
       "      <th>17395</th>\n",
       "      <td>Regine Velasquez</td>\n",
       "      <td>Langit</td>\n",
       "      <td>Tayo ay iisa  \\r\\nkahit pa magkawalay  \\r\\nmal...</td>\n",
       "    </tr>\n",
       "    <tr>\n",
       "      <th>16456</th>\n",
       "      <td>Procol Harum</td>\n",
       "      <td>So Far Behind</td>\n",
       "      <td>Your convent-cloistered, cluttered mind  \\r\\n[...</td>\n",
       "    </tr>\n",
       "    <tr>\n",
       "      <th>9826</th>\n",
       "      <td>Journey</td>\n",
       "      <td>Daydream</td>\n",
       "      <td>Shining in the silver moon,  \\r\\nCrystal ships...</td>\n",
       "    </tr>\n",
       "  </tbody>\n",
       "</table>\n",
       "<p>5000 rows × 3 columns</p>\n",
       "</div>"
      ],
      "text/plain": [
       "                 artist                             song  \\\n",
       "26094          Bon Jovi                   Blaze Of Glory   \n",
       "49139      Procol Harum                     About To Die   \n",
       "4834         Elton John          And The House Fell Down   \n",
       "4257       Dolly Parton          A Christmas To Remember   \n",
       "50463     Reba Mcentire  I'll Give You Something To Miss   \n",
       "...                 ...                              ...   \n",
       "736      Andrea Bocelli                            Sogno   \n",
       "10718     Kirk Franklin                       Hello Fear   \n",
       "17395  Regine Velasquez                           Langit   \n",
       "16456      Procol Harum                    So Far Behind   \n",
       "9826            Journey                         Daydream   \n",
       "\n",
       "                                                    text  \n",
       "26094  I wake up in the morning  \\r\\nAnd I raise my w...  \n",
       "49139  About to die, the crowds applaud you  \\r\\nAbou...  \n",
       "4834   The sun is up and the shades are all pulled do...  \n",
       "4257   You've made this a Christmas to remember  \\r\\n...  \n",
       "50463  Well there's a half moon starlit sky.  \\r\\nAll...  \n",
       "...                                                  ...  \n",
       "736    SOGNO  \\r\\n  \\r\\nVa ti aspettero'  \\r\\nII fior...  \n",
       "10718  Hello fear  \\r\\nBefore you sit down there's so...  \n",
       "17395  Tayo ay iisa  \\r\\nkahit pa magkawalay  \\r\\nmal...  \n",
       "16456  Your convent-cloistered, cluttered mind  \\r\\n[...  \n",
       "9826   Shining in the silver moon,  \\r\\nCrystal ships...  \n",
       "\n",
       "[5000 rows x 3 columns]"
      ]
     },
     "execution_count": 8,
     "metadata": {},
     "output_type": "execute_result"
    }
   ],
   "source": [
    "df.sample(5000)"
   ]
  },
  {
   "cell_type": "code",
   "execution_count": null,
   "id": "ecf5bcc6",
   "metadata": {},
   "outputs": [],
   "source": [
    "df = df.sample(5000)"
   ]
  },
  {
   "cell_type": "code",
   "execution_count": null,
   "id": "16cf7fd1",
   "metadata": {},
   "outputs": [
    {
     "data": {
      "text/html": [
       "<div>\n",
       "<style scoped>\n",
       "    .dataframe tbody tr th:only-of-type {\n",
       "        vertical-align: middle;\n",
       "    }\n",
       "\n",
       "    .dataframe tbody tr th {\n",
       "        vertical-align: top;\n",
       "    }\n",
       "\n",
       "    .dataframe thead th {\n",
       "        text-align: right;\n",
       "    }\n",
       "</style>\n",
       "<table border=\"1\" class=\"dataframe\">\n",
       "  <thead>\n",
       "    <tr style=\"text-align: right;\">\n",
       "      <th></th>\n",
       "      <th>artist</th>\n",
       "      <th>song</th>\n",
       "      <th>text</th>\n",
       "    </tr>\n",
       "  </thead>\n",
       "  <tbody>\n",
       "    <tr>\n",
       "      <th>16650</th>\n",
       "      <td>Quicksilver Messenger Service</td>\n",
       "      <td>What About Me</td>\n",
       "      <td>You poisoned my sweet water.  \\r\\nYou cut down...</td>\n",
       "    </tr>\n",
       "    <tr>\n",
       "      <th>21483</th>\n",
       "      <td>Who</td>\n",
       "      <td>Mary-Anne With The Shaky Hands</td>\n",
       "      <td>I danced with Linda  \\r\\nI danced with Jean  \\...</td>\n",
       "    </tr>\n",
       "    <tr>\n",
       "      <th>20186</th>\n",
       "      <td>Unseen</td>\n",
       "      <td>Scream Out</td>\n",
       "      <td>1-2-3... go!  \\r\\n  \\r\\nWell all my life it's ...</td>\n",
       "    </tr>\n",
       "    <tr>\n",
       "      <th>40423</th>\n",
       "      <td>Kinks</td>\n",
       "      <td>Good Day</td>\n",
       "      <td>The sky is blue  \\r\\nBut there are clouds in m...</td>\n",
       "    </tr>\n",
       "    <tr>\n",
       "      <th>54520</th>\n",
       "      <td>Uriah Heep</td>\n",
       "      <td>Dream On</td>\n",
       "      <td>(being, in love)  \\r\\nBeen travelling this roa...</td>\n",
       "    </tr>\n",
       "  </tbody>\n",
       "</table>\n",
       "</div>"
      ],
      "text/plain": [
       "                              artist                            song  \\\n",
       "16650  Quicksilver Messenger Service                   What About Me   \n",
       "21483                            Who  Mary-Anne With The Shaky Hands   \n",
       "20186                         Unseen                      Scream Out   \n",
       "40423                          Kinks                        Good Day   \n",
       "54520                     Uriah Heep                        Dream On   \n",
       "\n",
       "                                                    text  \n",
       "16650  You poisoned my sweet water.  \\r\\nYou cut down...  \n",
       "21483  I danced with Linda  \\r\\nI danced with Jean  \\...  \n",
       "20186  1-2-3... go!  \\r\\n  \\r\\nWell all my life it's ...  \n",
       "40423  The sky is blue  \\r\\nBut there are clouds in m...  \n",
       "54520  (being, in love)  \\r\\nBeen travelling this roa...  "
      ]
     },
     "execution_count": 10,
     "metadata": {},
     "output_type": "execute_result"
    }
   ],
   "source": [
    "df.head(5)"
   ]
  },
  {
   "cell_type": "markdown",
   "id": "6aea4156",
   "metadata": {},
   "source": [
    "Cleaning"
   ]
  },
  {
   "cell_type": "code",
   "execution_count": null,
   "id": "64f4117c",
   "metadata": {},
   "outputs": [],
   "source": [
    "df['text']=df['text'].str.lower().replace(r'[^\\w\\s\\r]+', '').replace(r'\\n',' ', regex=True)"
   ]
  },
  {
   "cell_type": "code",
   "execution_count": null,
   "id": "87738328",
   "metadata": {},
   "outputs": [
    {
     "data": {
      "text/html": [
       "<div>\n",
       "<style scoped>\n",
       "    .dataframe tbody tr th:only-of-type {\n",
       "        vertical-align: middle;\n",
       "    }\n",
       "\n",
       "    .dataframe tbody tr th {\n",
       "        vertical-align: top;\n",
       "    }\n",
       "\n",
       "    .dataframe thead th {\n",
       "        text-align: right;\n",
       "    }\n",
       "</style>\n",
       "<table border=\"1\" class=\"dataframe\">\n",
       "  <thead>\n",
       "    <tr style=\"text-align: right;\">\n",
       "      <th></th>\n",
       "      <th>artist</th>\n",
       "      <th>song</th>\n",
       "      <th>text</th>\n",
       "    </tr>\n",
       "  </thead>\n",
       "  <tbody>\n",
       "    <tr>\n",
       "      <th>16650</th>\n",
       "      <td>Quicksilver Messenger Service</td>\n",
       "      <td>What About Me</td>\n",
       "      <td>you poisoned my sweet water.  \\r you cut down ...</td>\n",
       "    </tr>\n",
       "    <tr>\n",
       "      <th>21483</th>\n",
       "      <td>Who</td>\n",
       "      <td>Mary-Anne With The Shaky Hands</td>\n",
       "      <td>i danced with linda  \\r i danced with jean  \\r...</td>\n",
       "    </tr>\n",
       "    <tr>\n",
       "      <th>20186</th>\n",
       "      <td>Unseen</td>\n",
       "      <td>Scream Out</td>\n",
       "      <td>1-2-3... go!  \\r   \\r well all my life it's be...</td>\n",
       "    </tr>\n",
       "    <tr>\n",
       "      <th>40423</th>\n",
       "      <td>Kinks</td>\n",
       "      <td>Good Day</td>\n",
       "      <td>the sky is blue  \\r but there are clouds in my...</td>\n",
       "    </tr>\n",
       "    <tr>\n",
       "      <th>54520</th>\n",
       "      <td>Uriah Heep</td>\n",
       "      <td>Dream On</td>\n",
       "      <td>(being, in love)  \\r been travelling this road...</td>\n",
       "    </tr>\n",
       "  </tbody>\n",
       "</table>\n",
       "</div>"
      ],
      "text/plain": [
       "                              artist                            song  \\\n",
       "16650  Quicksilver Messenger Service                   What About Me   \n",
       "21483                            Who  Mary-Anne With The Shaky Hands   \n",
       "20186                         Unseen                      Scream Out   \n",
       "40423                          Kinks                        Good Day   \n",
       "54520                     Uriah Heep                        Dream On   \n",
       "\n",
       "                                                    text  \n",
       "16650  you poisoned my sweet water.  \\r you cut down ...  \n",
       "21483  i danced with linda  \\r i danced with jean  \\r...  \n",
       "20186  1-2-3... go!  \\r   \\r well all my life it's be...  \n",
       "40423  the sky is blue  \\r but there are clouds in my...  \n",
       "54520  (being, in love)  \\r been travelling this road...  "
      ]
     },
     "execution_count": 12,
     "metadata": {},
     "output_type": "execute_result"
    }
   ],
   "source": [
    "df.head(5)"
   ]
  },
  {
   "cell_type": "markdown",
   "id": "cd2d790e",
   "metadata": {},
   "source": [
    "Tokenization và Vectorization"
   ]
  },
  {
   "cell_type": "code",
   "execution_count": null,
   "id": "32ffcfe7",
   "metadata": {},
   "outputs": [],
   "source": [
    "import nltk\n",
    "from nltk.stem.porter import PorterStemmer\n"
   ]
  },
  {
   "cell_type": "code",
   "execution_count": null,
   "id": "b43671c6",
   "metadata": {},
   "outputs": [],
   "source": [
    "stemmer = PorterStemmer()"
   ]
  },
  {
   "cell_type": "code",
   "execution_count": null,
   "id": "4f43f410",
   "metadata": {},
   "outputs": [],
   "source": [
    "def token(txt):\n",
    "    token = nltk.word_tokenize(txt) # tách chuỗi văn bản thành các từ  riêng lẻ\n",
    "    a = [stemmer.stem(w) for w in token] # duyệt qua từng từ trong token và chuyển về dạng gốc\n",
    "    return \" \".join(a) # ghép các từ trong list a thành một chuỗi, ngăn cách bởi dấu \" \""
   ]
  },
  {
   "cell_type": "code",
   "execution_count": null,
   "id": "d01e6b17",
   "metadata": {},
   "outputs": [
    {
     "data": {
      "text/plain": [
       "'you are beauti'"
      ]
     },
     "execution_count": 16,
     "metadata": {},
     "output_type": "execute_result"
    }
   ],
   "source": [
    "token(\"you are beautiful\")"
   ]
  },
  {
   "cell_type": "code",
   "execution_count": null,
   "id": "f1207a39",
   "metadata": {},
   "outputs": [
    {
     "data": {
      "text/plain": [
       "16650    you poison my sweet water . you cut down my gr...\n",
       "21483    i danc with linda i danc with jean i danc with...\n",
       "20186    1-2-3 ... go ! well all my life it 's been the...\n",
       "40423    the sky is blue but there are cloud in my head...\n",
       "54520    ( be , in love ) been travel thi road for so l...\n",
       "                               ...                        \n",
       "49963    what doe a man do what doe a man do who ca n't...\n",
       "42974    burn the witch , burn the witch , do n't take ...\n",
       "29903    i lie in bed besid you and watch you while you...\n",
       "19695    say it say it say it tell it like it is say it...\n",
       "43054    [ vers : ] i do n't know if i can open up i 'v...\n",
       "Name: text, Length: 5000, dtype: object"
      ]
     },
     "execution_count": 17,
     "metadata": {},
     "output_type": "execute_result"
    }
   ],
   "source": [
    "df['text'].apply(lambda x: token(x))"
   ]
  },
  {
   "cell_type": "code",
   "execution_count": null,
   "id": "0a5455c2",
   "metadata": {},
   "outputs": [],
   "source": [
    "from sklearn.feature_extraction.text import TfidfVectorizer\n",
    "from sklearn.metrics.pairwise import cosine_similarity"
   ]
  },
  {
   "cell_type": "code",
   "execution_count": null,
   "id": "4196ee9b",
   "metadata": {},
   "outputs": [],
   "source": [
    "tfid = TfidfVectorizer(analyzer='word', stop_words='english')\n",
    "# sử dụng từ riêng lẻ trong văn bản để tạo vector, các option khác: char, char_wb\n",
    "# stopwords: loại bỏ các từ không mang ý nghĩa như \"a\", \"an\", \"the\", \"me\", ..."
   ]
  },
  {
   "cell_type": "code",
   "execution_count": null,
   "id": "4fdd1277",
   "metadata": {},
   "outputs": [],
   "source": [
    "matrix = tfid.fit_transform(df['text'])"
   ]
  },
  {
   "cell_type": "code",
   "execution_count": null,
   "id": "79f7198f",
   "metadata": {},
   "outputs": [],
   "source": [
    "similer = cosine_similarity(matrix)\n",
    "## Kết quả là một ma trận đối xứng, giá trị ở hàng thứ i và cột thứ j thể hiện độ tương đồng cosin giữa hai vector biểu diễn văn bản i và j trong tập dữ liệu."
   ]
  },
  {
   "cell_type": "code",
   "execution_count": null,
   "id": "56e13ff6",
   "metadata": {},
   "outputs": [
    {
     "data": {
      "text/plain": [
       "array([1.        , 0.00892434, 0.02403606, ..., 0.01126776, 0.03863066,\n",
       "       0.05446944])"
      ]
     },
     "execution_count": 22,
     "metadata": {},
     "output_type": "execute_result"
    }
   ],
   "source": [
    "similer[0]"
   ]
  },
  {
   "cell_type": "code",
   "execution_count": null,
   "id": "19b8ebd6",
   "metadata": {},
   "outputs": [],
   "source": [
    "import pickle\n",
    "pickle.dump(similer,open('similarity.pkl','wb'))\n",
    "pickle.dump(df,open('df.pkl','wb'))"
   ]
  }
 ],
 "metadata": {
  "kernelspec": {
   "display_name": "Python 3 (ipykernel)",
   "language": "python",
   "name": "python3"
  },
  "language_info": {
   "codemirror_mode": {
    "name": "ipython",
    "version": 3
   },
   "file_extension": ".py",
   "mimetype": "text/x-python",
   "name": "python",
   "nbconvert_exporter": "python",
   "pygments_lexer": "ipython3",
   "version": "3.10.7"
  }
 },
 "nbformat": 4,
 "nbformat_minor": 5
}
